{
 "cells": [
  {
   "cell_type": "code",
   "execution_count": 1,
   "id": "b7d1366f",
   "metadata": {},
   "outputs": [
    {
     "data": {
      "text/plain": [
       "0"
      ]
     },
     "execution_count": 1,
     "metadata": {},
     "output_type": "execute_result"
    }
   ],
   "source": [
    "5 - 5"
   ]
  },
  {
   "cell_type": "markdown",
   "id": "cea18505",
   "metadata": {},
   "source": [
    "# Jupyter Notebook\n",
    "## Section 1: Markdown Basics\n",
    "\n",
    "1. Create headers with hash\n",
    "2. **Bold** and then *italics*\n",
    "\n",
    "* this is bulted list\n",
    "* This is comments\n",
    "\n",
    "then this is regular text."
   ]
  },
  {
   "cell_type": "code",
   "execution_count": 2,
   "id": "a79e770b",
   "metadata": {},
   "outputs": [],
   "source": [
    "print?"
   ]
  },
  {
   "cell_type": "code",
   "execution_count": 3,
   "id": "6e05b7d2",
   "metadata": {},
   "outputs": [
    {
     "name": "stdout",
     "output_type": "stream",
     "text": [
      "5 10\n"
     ]
    }
   ],
   "source": [
    "print(5, 5 + 5)"
   ]
  },
  {
   "cell_type": "markdown",
   "id": "38fc7c1b",
   "metadata": {},
   "source": [
    "## Section 2: The print FUnction"
   ]
  },
  {
   "cell_type": "code",
   "execution_count": 4,
   "id": "770063e7",
   "metadata": {},
   "outputs": [
    {
     "name": "stdout",
     "output_type": "stream",
     "text": [
      "Hello World\n"
     ]
    }
   ],
   "source": [
    "print('Hello World')"
   ]
  },
  {
   "cell_type": "code",
   "execution_count": 5,
   "id": "cc8b38d9",
   "metadata": {},
   "outputs": [
    {
     "name": "stdout",
     "output_type": "stream",
     "text": [
      "quote\n"
     ]
    }
   ],
   "source": [
    "print('quote')"
   ]
  },
  {
   "cell_type": "code",
   "execution_count": 6,
   "id": "d19a81f8",
   "metadata": {},
   "outputs": [
    {
     "data": {
      "text/plain": [
       "int"
      ]
     },
     "execution_count": 6,
     "metadata": {},
     "output_type": "execute_result"
    }
   ],
   "source": [
    "type(10)"
   ]
  },
  {
   "cell_type": "code",
   "execution_count": 7,
   "id": "4de51c6d",
   "metadata": {},
   "outputs": [
    {
     "data": {
      "text/plain": [
       "float"
      ]
     },
     "execution_count": 7,
     "metadata": {},
     "output_type": "execute_result"
    }
   ],
   "source": [
    "type(3.4)"
   ]
  },
  {
   "cell_type": "code",
   "execution_count": 8,
   "id": "5d0f92f1",
   "metadata": {},
   "outputs": [
    {
     "data": {
      "text/plain": [
       "str"
      ]
     },
     "execution_count": 8,
     "metadata": {},
     "output_type": "execute_result"
    }
   ],
   "source": [
    "type('skis')"
   ]
  },
  {
   "cell_type": "code",
   "execution_count": 9,
   "id": "20998b47",
   "metadata": {},
   "outputs": [
    {
     "data": {
      "text/plain": [
       "list"
      ]
     },
     "execution_count": 9,
     "metadata": {},
     "output_type": "execute_result"
    }
   ],
   "source": [
    "type([2.4, 'skis', None])"
   ]
  },
  {
   "cell_type": "code",
   "execution_count": 10,
   "id": "e131aa48",
   "metadata": {},
   "outputs": [
    {
     "data": {
      "text/plain": [
       "list"
      ]
     },
     "execution_count": 10,
     "metadata": {},
     "output_type": "execute_result"
    }
   ],
   "source": [
    "data_type = type([2.4, 'skiks', None])\n",
    "\n",
    "data_type"
   ]
  },
  {
   "cell_type": "code",
   "execution_count": 11,
   "id": "5017b33f",
   "metadata": {},
   "outputs": [
    {
     "data": {
      "text/plain": [
       "123"
      ]
     },
     "execution_count": 11,
     "metadata": {},
     "output_type": "execute_result"
    }
   ],
   "source": [
    "int('123')"
   ]
  },
  {
   "cell_type": "code",
   "execution_count": 12,
   "id": "c56ab9e9",
   "metadata": {},
   "outputs": [
    {
     "data": {
      "text/plain": [
       "3"
      ]
     },
     "execution_count": 12,
     "metadata": {},
     "output_type": "execute_result"
    }
   ],
   "source": [
    "int(3.4)"
   ]
  },
  {
   "cell_type": "code",
   "execution_count": 13,
   "id": "df1a8d86",
   "metadata": {},
   "outputs": [
    {
     "data": {
      "text/plain": [
       "345"
      ]
     },
     "execution_count": 13,
     "metadata": {},
     "output_type": "execute_result"
    }
   ],
   "source": [
    "int('345')"
   ]
  },
  {
   "cell_type": "code",
   "execution_count": 14,
   "id": "d767e4b2",
   "metadata": {},
   "outputs": [
    {
     "data": {
      "text/plain": [
       "3"
      ]
     },
     "execution_count": 14,
     "metadata": {},
     "output_type": "execute_result"
    }
   ],
   "source": [
    "int(3.4)"
   ]
  },
  {
   "cell_type": "code",
   "execution_count": 16,
   "id": "cccaf997",
   "metadata": {},
   "outputs": [
    {
     "ename": "TypeError",
     "evalue": "int() argument must be a string, a bytes-like object or a number, not 'list'",
     "output_type": "error",
     "traceback": [
      "\u001b[0;31m---------------------------------------------------------------------------\u001b[0m",
      "\u001b[0;31mTypeError\u001b[0m                                 Traceback (most recent call last)",
      "\u001b[0;32m/var/folders/7l/v5b7bz954tv71xh7xnx3z4600000gp/T/ipykernel_6460/3574300601.py\u001b[0m in \u001b[0;36m<module>\u001b[0;34m\u001b[0m\n\u001b[0;32m----> 1\u001b[0;31m \u001b[0mint\u001b[0m\u001b[0;34m(\u001b[0m\u001b[0;34m[\u001b[0m\u001b[0;36m1\u001b[0m\u001b[0;34m,\u001b[0m \u001b[0;36m2\u001b[0m\u001b[0;34m,\u001b[0m \u001b[0;36m3\u001b[0m\u001b[0;34m]\u001b[0m\u001b[0;34m)\u001b[0m\u001b[0;34m\u001b[0m\u001b[0;34m\u001b[0m\u001b[0m\n\u001b[0m",
      "\u001b[0;31mTypeError\u001b[0m: int() argument must be a string, a bytes-like object or a number, not 'list'"
     ]
    }
   ],
   "source": [
    "int([1, 2, 3])"
   ]
  },
  {
   "cell_type": "code",
   "execution_count": 17,
   "id": "6c7a4cb2",
   "metadata": {},
   "outputs": [
    {
     "data": {
      "text/plain": [
       "(1, 2, 3)"
      ]
     },
     "execution_count": 17,
     "metadata": {},
     "output_type": "execute_result"
    }
   ],
   "source": [
    "tuple([1, 2, 3])"
   ]
  },
  {
   "cell_type": "code",
   "execution_count": 18,
   "id": "dcc23071",
   "metadata": {},
   "outputs": [
    {
     "data": {
      "text/plain": [
       "(5, 6, 9)"
      ]
     },
     "execution_count": 18,
     "metadata": {},
     "output_type": "execute_result"
    }
   ],
   "source": [
    "tuple([5, 6, 9])"
   ]
  },
  {
   "cell_type": "code",
   "execution_count": 19,
   "id": "c1a823ee",
   "metadata": {},
   "outputs": [
    {
     "data": {
      "text/plain": [
       "int"
      ]
     },
     "execution_count": 19,
     "metadata": {},
     "output_type": "execute_result"
    }
   ],
   "source": [
    "type(45)"
   ]
  },
  {
   "cell_type": "code",
   "execution_count": 20,
   "id": "a0fada6b",
   "metadata": {},
   "outputs": [
    {
     "data": {
      "text/plain": [
       "str"
      ]
     },
     "execution_count": 20,
     "metadata": {},
     "output_type": "execute_result"
    }
   ],
   "source": [
    "type('major league')"
   ]
  },
  {
   "cell_type": "code",
   "execution_count": 21,
   "id": "2660da50",
   "metadata": {},
   "outputs": [],
   "source": [
    "price = 5"
   ]
  },
  {
   "cell_type": "code",
   "execution_count": 22,
   "id": "8b9c739b",
   "metadata": {},
   "outputs": [
    {
     "name": "stdout",
     "output_type": "stream",
     "text": [
      "6\n"
     ]
    }
   ],
   "source": [
    "print(price + 1)"
   ]
  },
  {
   "cell_type": "code",
   "execution_count": 23,
   "id": "d8d72aa2",
   "metadata": {},
   "outputs": [
    {
     "data": {
      "text/plain": [
       "5"
      ]
     },
     "execution_count": 23,
     "metadata": {},
     "output_type": "execute_result"
    }
   ],
   "source": [
    "price"
   ]
  },
  {
   "cell_type": "code",
   "execution_count": 24,
   "id": "0c99e7f2",
   "metadata": {},
   "outputs": [],
   "source": [
    "tax = 2"
   ]
  },
  {
   "cell_type": "code",
   "execution_count": 25,
   "id": "6b4054e1",
   "metadata": {},
   "outputs": [
    {
     "data": {
      "text/plain": [
       "7"
      ]
     },
     "execution_count": 25,
     "metadata": {},
     "output_type": "execute_result"
    }
   ],
   "source": [
    "price + tax"
   ]
  },
  {
   "cell_type": "code",
   "execution_count": 26,
   "id": "8948dde8",
   "metadata": {},
   "outputs": [
    {
     "data": {
      "text/plain": [
       "9.5"
      ]
     },
     "execution_count": 26,
     "metadata": {},
     "output_type": "execute_result"
    }
   ],
   "source": [
    "price = 7\n",
    "tax = 2.5\n",
    "price + tax"
   ]
  },
  {
   "cell_type": "code",
   "execution_count": 27,
   "id": "2bd5d19e",
   "metadata": {},
   "outputs": [
    {
     "name": "stdout",
     "output_type": "stream",
     "text": [
      "skis\n"
     ]
    }
   ],
   "source": [
    "product_name = 'skis'\n",
    "\n",
    "print(product_name)"
   ]
  },
  {
   "cell_type": "code",
   "execution_count": 28,
   "id": "ebe933d6",
   "metadata": {},
   "outputs": [
    {
     "data": {
      "text/plain": [
       "tuple"
      ]
     },
     "execution_count": 28,
     "metadata": {},
     "output_type": "execute_result"
    }
   ],
   "source": [
    "price_list = (2.50, 4.99, 10, None, 'Discount')\n",
    "\n",
    "price_list_type = type(price_list)\n",
    "\n",
    "price_list_type"
   ]
  },
  {
   "cell_type": "markdown",
   "id": "5dc1e5a1",
   "metadata": {},
   "source": [
    "# Assignment: Variable Assignment\n",
    "\n",
    "## Task\n",
    "\n",
    "- Create a 'tax' variable and assign a value of 2\n",
    "- Create a 'total' variable equal to 'price' + 'tax'\n",
    "- print 'total'"
   ]
  },
  {
   "cell_type": "code",
   "execution_count": 29,
   "id": "05481d01",
   "metadata": {},
   "outputs": [
    {
     "name": "stdout",
     "output_type": "stream",
     "text": [
      "7\n"
     ]
    }
   ],
   "source": [
    "price = 5\n",
    "tax = 2\n",
    "total = price + tax\n",
    "print(total)"
   ]
  },
  {
   "cell_type": "code",
   "execution_count": 30,
   "id": "9d1ba3e2",
   "metadata": {},
   "outputs": [
    {
     "name": "stdout",
     "output_type": "stream",
     "text": [
      "6\n"
     ]
    }
   ],
   "source": [
    "price = 5\n",
    "new_price =6\n",
    "price = new_price\n",
    "new_price = 7\n",
    "\n",
    "print(price)"
   ]
  },
  {
   "cell_type": "code",
   "execution_count": 31,
   "id": "9c5743b4",
   "metadata": {},
   "outputs": [
    {
     "ename": "NameError",
     "evalue": "name 'price' is not defined",
     "output_type": "error",
     "traceback": [
      "\u001b[0;31m---------------------------------------------------------------------------\u001b[0m",
      "\u001b[0;31mNameError\u001b[0m                                 Traceback (most recent call last)",
      "\u001b[0;32m/var/folders/7l/v5b7bz954tv71xh7xnx3z4600000gp/T/ipykernel_6460/432900761.py\u001b[0m in \u001b[0;36m<module>\u001b[0;34m\u001b[0m\n\u001b[1;32m      2\u001b[0m \u001b[0;32mdel\u001b[0m \u001b[0mprice\u001b[0m\u001b[0;34m\u001b[0m\u001b[0;34m\u001b[0m\u001b[0m\n\u001b[1;32m      3\u001b[0m \u001b[0;34m\u001b[0m\u001b[0m\n\u001b[0;32m----> 4\u001b[0;31m \u001b[0mprint\u001b[0m\u001b[0;34m(\u001b[0m\u001b[0mprice\u001b[0m\u001b[0;34m)\u001b[0m\u001b[0;34m\u001b[0m\u001b[0;34m\u001b[0m\u001b[0m\n\u001b[0m",
      "\u001b[0;31mNameError\u001b[0m: name 'price' is not defined"
     ]
    }
   ],
   "source": [
    "price = 5\n",
    "del price\n",
    "\n",
    "print(price)"
   ]
  },
  {
   "cell_type": "code",
   "execution_count": 32,
   "id": "6ae9783a",
   "metadata": {},
   "outputs": [
    {
     "name": "stdout",
     "output_type": "stream",
     "text": [
      "100 85\n"
     ]
    }
   ],
   "source": [
    "old_inventory = 100\n",
    "new_inventory = 85\n",
    "print(old_inventory,new_inventory)\n"
   ]
  },
  {
   "cell_type": "code",
   "execution_count": 33,
   "id": "14fcf930",
   "metadata": {},
   "outputs": [
    {
     "name": "stdout",
     "output_type": "stream",
     "text": [
      "9 20\n"
     ]
    }
   ],
   "source": [
    "time = 9\n",
    "new_time = 20\n",
    "print(time, new_time)"
   ]
  },
  {
   "cell_type": "code",
   "execution_count": 34,
   "id": "c7f653ad",
   "metadata": {},
   "outputs": [],
   "source": [
    "del time"
   ]
  },
  {
   "cell_type": "code",
   "execution_count": 35,
   "id": "5d03c867",
   "metadata": {},
   "outputs": [
    {
     "name": "stdout",
     "output_type": "stream",
     "text": [
      "CPU times: user 5 µs, sys: 1 µs, total: 6 µs\n",
      "Wall time: 11.7 µs\n"
     ]
    }
   ],
   "source": [
    "time"
   ]
  },
  {
   "cell_type": "code",
   "execution_count": 36,
   "id": "becc4972",
   "metadata": {},
   "outputs": [],
   "source": [
    "del new_time"
   ]
  },
  {
   "cell_type": "code",
   "execution_count": 37,
   "id": "9024035a",
   "metadata": {},
   "outputs": [
    {
     "ename": "NameError",
     "evalue": "name 'new_time' is not defined",
     "output_type": "error",
     "traceback": [
      "\u001b[0;31m---------------------------------------------------------------------------\u001b[0m",
      "\u001b[0;31mNameError\u001b[0m                                 Traceback (most recent call last)",
      "\u001b[0;32m/var/folders/7l/v5b7bz954tv71xh7xnx3z4600000gp/T/ipykernel_6460/319581006.py\u001b[0m in \u001b[0;36m<module>\u001b[0;34m\u001b[0m\n\u001b[0;32m----> 1\u001b[0;31m \u001b[0mnew_time\u001b[0m\u001b[0;34m\u001b[0m\u001b[0;34m\u001b[0m\u001b[0m\n\u001b[0m",
      "\u001b[0;31mNameError\u001b[0m: name 'new_time' is not defined"
     ]
    }
   ],
   "source": [
    "new_time"
   ]
  },
  {
   "cell_type": "code",
   "execution_count": 41,
   "id": "c0963fc7",
   "metadata": {},
   "outputs": [
    {
     "ename": "SyntaxError",
     "evalue": "invalid decimal literal (1583064820.py, line 1)",
     "output_type": "error",
     "traceback": [
      "\u001b[0;36m  File \u001b[0;32m\"/var/folders/7l/v5b7bz954tv71xh7xnx3z4600000gp/T/ipykernel_6460/1583064820.py\"\u001b[0;36m, line \u001b[0;32m1\u001b[0m\n\u001b[0;31m    2019_price = 12\u001b[0m\n\u001b[0m        ^\u001b[0m\n\u001b[0;31mSyntaxError\u001b[0m\u001b[0;31m:\u001b[0m invalid decimal literal\n"
     ]
    }
   ],
   "source": [
    "2019_price = 12"
   ]
  },
  {
   "cell_type": "code",
   "execution_count": 44,
   "id": "6a0a3450",
   "metadata": {},
   "outputs": [],
   "source": [
    "snwboard_inventory = 100\n",
    "\n",
    "new_inventory = 85"
   ]
  },
  {
   "cell_type": "code",
   "execution_count": 45,
   "id": "ddb87f2c",
   "metadata": {},
   "outputs": [
    {
     "name": "stdout",
     "output_type": "stream",
     "text": [
      "Customer\t data_type\t dimensions\t inventory\t inventory_count\t new_inventory\t new_price\t old_inventory\t price\t \n",
      "price_list\t price_list_type\t product\t product_name\t size\t snwboard_inventory\t tax\t total\t \n"
     ]
    }
   ],
   "source": [
    "product = 'Super Board'\n",
    "size = 'Medium'\n",
    "dimensions = [160, 25, 2]\n",
    "\n",
    "%who"
   ]
  },
  {
   "cell_type": "code",
   "execution_count": 46,
   "id": "29c98ed1",
   "metadata": {},
   "outputs": [
    {
     "name": "stdout",
     "output_type": "stream",
     "text": [
      "Customer\t data_type\t dimensions\t inventory\t inventory_count\t mark\t marker\t new_inventory\t new_price\t \n",
      "number\t old_inventory\t price\t price_list\t price_list_type\t product\t product_name\t sice\t size\t \n",
      "snwboard_inventory\t tax\t total\t \n"
     ]
    }
   ],
   "source": [
    "mark = 100\n",
    "sice = 70\n",
    "number = [160, 56, 9]\n",
    "marker = 'Mediums'\n",
    "\n",
    "%who"
   ]
  },
  {
   "cell_type": "code",
   "execution_count": 47,
   "id": "328ac9c8",
   "metadata": {},
   "outputs": [
    {
     "name": "stdout",
     "output_type": "stream",
     "text": [
      "Variable             Type     Data/Info\n",
      "---------------------------------------\n",
      "Customer             str      Barry\n",
      "data_type            type     <class 'list'>\n",
      "dimensions           list     n=3\n",
      "inventory            int      6\n",
      "inventory_count      int      0\n",
      "mark                 int      100\n",
      "marker               str      Mediums\n",
      "new_inventory        int      85\n",
      "new_price            int      7\n",
      "number               list     n=3\n",
      "old_inventory        int      100\n",
      "price                float    9.99\n",
      "price_list           tuple    n=5\n",
      "price_list_type      type     <class 'tuple'>\n",
      "product              str      Super Board\n",
      "product_name         str      skis\n",
      "sice                 int      70\n",
      "size                 str      Medium\n",
      "snwboard_inventory   int      100\n",
      "tax                  int      2\n",
      "total                int      7\n"
     ]
    }
   ],
   "source": [
    "%whos"
   ]
  },
  {
   "cell_type": "code",
   "execution_count": 48,
   "id": "f28de10a",
   "metadata": {},
   "outputs": [
    {
     "data": {
      "text/plain": [
       "['skis', 'snowboard', 'sled']"
      ]
     },
     "execution_count": 48,
     "metadata": {},
     "output_type": "execute_result"
    }
   ],
   "source": [
    "items_2024 = ['skis', 'snowboard', 'sled']\n",
    "items_2024"
   ]
  },
  {
   "cell_type": "code",
   "execution_count": 49,
   "id": "3bc6eefe",
   "metadata": {},
   "outputs": [],
   "source": [
    "del items_2024"
   ]
  },
  {
   "cell_type": "code",
   "execution_count": 50,
   "id": "f38753aa",
   "metadata": {},
   "outputs": [
    {
     "data": {
      "text/plain": [
       "['skis', 'snowboard', 'sled']"
      ]
     },
     "execution_count": 50,
     "metadata": {},
     "output_type": "execute_result"
    }
   ],
   "source": [
    "items_2024 = ['skis', 'snowboard', 'sled']\n",
    "items_2024"
   ]
  },
  {
   "cell_type": "markdown",
   "id": "51b65a1a",
   "metadata": {},
   "source": [
    "# Fixing Variables\n",
    "## Assignment \n",
    "Make the variables start like price_list_year and do it for 2018, 2019 and 2020. Then clean unnecessary variable names."
   ]
  },
  {
   "cell_type": "code",
   "execution_count": 51,
   "id": "287c847c",
   "metadata": {},
   "outputs": [
    {
     "name": "stdout",
     "output_type": "stream",
     "text": [
      "Variable               Type     Data/Info\n",
      "-----------------------------------------\n",
      "Customer               str      Barry\n",
      "data_type              type     <class 'list'>\n",
      "dimensions             list     n=3\n",
      "inventory              int      6\n",
      "inventory_count        int      0\n",
      "items_2024             list     n=3\n",
      "mark                   int      100\n",
      "marker                 str      Mediums\n",
      "new_inventory          int      85\n",
      "new_price              int      7\n",
      "number                 list     n=3\n",
      "old_inventory          int      100\n",
      "price                  float    9.99\n",
      "price_list             tuple    n=5\n",
      "price_list_type        type     <class 'tuple'>\n",
      "price_list_year2018    list     n=5\n",
      "price_list_year_2019   list     n=5\n",
      "price_list_year_2020   list     n=5\n",
      "product                str      Super Board\n",
      "product_name           str      skis\n",
      "sice                   int      70\n",
      "size                   str      Medium\n",
      "snwboard_inventory     int      100\n",
      "tax                    int      2\n",
      "total                  int      7\n"
     ]
    }
   ],
   "source": [
    "price_list_year2018 = [4.99, 8.99, 17.99, 22.99, 94.99]\n",
    "\n",
    "price_list_year_2019 = [5.99, 9.99, 19.99, 24.99, 99.99]\n",
    "\n",
    "price_list_year_2020 = [6.49, 10.49, 19.99, 26.99, 104.99]\n",
    "\n",
    "%whos"
   ]
  },
  {
   "cell_type": "code",
   "execution_count": 52,
   "id": "f058e050",
   "metadata": {},
   "outputs": [
    {
     "data": {
      "text/plain": [
       "float"
      ]
     },
     "execution_count": 52,
     "metadata": {},
     "output_type": "execute_result"
    }
   ],
   "source": [
    "numbers = 1.999\n",
    "type(numbers)"
   ]
  },
  {
   "cell_type": "code",
   "execution_count": 53,
   "id": "7c60b3bf",
   "metadata": {},
   "outputs": [
    {
     "data": {
      "text/plain": [
       "(1, int)"
      ]
     },
     "execution_count": 53,
     "metadata": {},
     "output_type": "execute_result"
    }
   ],
   "source": [
    "fixed_number = int(numbers)\n",
    "fixed_number, type(fixed_number)"
   ]
  },
  {
   "cell_type": "code",
   "execution_count": 54,
   "id": "4bd4e311",
   "metadata": {},
   "outputs": [],
   "source": [
    "del numbers, fixed_number"
   ]
  },
  {
   "cell_type": "code",
   "execution_count": 55,
   "id": "2ea1369a",
   "metadata": {},
   "outputs": [
    {
     "data": {
      "text/plain": [
       "float"
      ]
     },
     "execution_count": 55,
     "metadata": {},
     "output_type": "execute_result"
    }
   ],
   "source": [
    "numbers = 1.987\n",
    "type(numbers)"
   ]
  },
  {
   "cell_type": "code",
   "execution_count": 56,
   "id": "043ddccb",
   "metadata": {},
   "outputs": [
    {
     "data": {
      "text/plain": [
       "(1, int)"
      ]
     },
     "execution_count": 56,
     "metadata": {},
     "output_type": "execute_result"
    }
   ],
   "source": [
    "fixed_number = int(numbers)\n",
    "fixed_number, type(fixed_number)"
   ]
  },
  {
   "cell_type": "code",
   "execution_count": 57,
   "id": "66acd2be",
   "metadata": {},
   "outputs": [],
   "source": [
    "del fixed_number"
   ]
  },
  {
   "cell_type": "code",
   "execution_count": 58,
   "id": "af865086",
   "metadata": {},
   "outputs": [
    {
     "data": {
      "text/plain": [
       "float"
      ]
     },
     "execution_count": 58,
     "metadata": {},
     "output_type": "execute_result"
    }
   ],
   "source": [
    "numbers = 1.98\n",
    "type(numbers)"
   ]
  },
  {
   "cell_type": "code",
   "execution_count": 59,
   "id": "45668ac6",
   "metadata": {},
   "outputs": [
    {
     "data": {
      "text/plain": [
       "(1, int)"
      ]
     },
     "execution_count": 59,
     "metadata": {},
     "output_type": "execute_result"
    }
   ],
   "source": [
    "convert_numbers = int(numbers)\n",
    "convert_numbers, type(convert_numbers)"
   ]
  },
  {
   "cell_type": "code",
   "execution_count": 60,
   "id": "4f6473af",
   "metadata": {},
   "outputs": [
    {
     "data": {
      "text/plain": [
       "str"
      ]
     },
     "execution_count": 60,
     "metadata": {},
     "output_type": "execute_result"
    }
   ],
   "source": [
    "text = '1.2'\n",
    "type(text)"
   ]
  },
  {
   "cell_type": "code",
   "execution_count": 61,
   "id": "9fc0d6c9",
   "metadata": {},
   "outputs": [
    {
     "data": {
      "text/plain": [
       "(1.2, float)"
      ]
     },
     "execution_count": 61,
     "metadata": {},
     "output_type": "execute_result"
    }
   ],
   "source": [
    "fixed_number = float(text)\n",
    "fixed_number, type(fixed_number)"
   ]
  },
  {
   "cell_type": "code",
   "execution_count": 62,
   "id": "d8e0870f",
   "metadata": {},
   "outputs": [
    {
     "data": {
      "text/plain": [
       "str"
      ]
     },
     "execution_count": 62,
     "metadata": {},
     "output_type": "execute_result"
    }
   ],
   "source": [
    "text = '1.2'\n",
    "type(text)"
   ]
  },
  {
   "cell_type": "code",
   "execution_count": 63,
   "id": "7a25c831",
   "metadata": {},
   "outputs": [
    {
     "data": {
      "text/plain": [
       "(1.2, float)"
      ]
     },
     "execution_count": 63,
     "metadata": {},
     "output_type": "execute_result"
    }
   ],
   "source": [
    "fixed_number = float(text)\n",
    "fixed_number, type(fixed_number)"
   ]
  },
  {
   "cell_type": "code",
   "execution_count": 64,
   "id": "76c1cabc",
   "metadata": {},
   "outputs": [],
   "source": [
    "my_string = '3759'\n",
    "my_float = 3.759\n",
    "my_int = 3"
   ]
  },
  {
   "cell_type": "code",
   "execution_count": 65,
   "id": "914bd94d",
   "metadata": {},
   "outputs": [
    {
     "data": {
      "text/plain": [
       "3759"
      ]
     },
     "execution_count": 65,
     "metadata": {},
     "output_type": "execute_result"
    }
   ],
   "source": [
    "int(my_string)"
   ]
  },
  {
   "cell_type": "code",
   "execution_count": 66,
   "id": "5c089870",
   "metadata": {},
   "outputs": [
    {
     "data": {
      "text/plain": [
       "3"
      ]
     },
     "execution_count": 66,
     "metadata": {},
     "output_type": "execute_result"
    }
   ],
   "source": [
    "int(my_float)"
   ]
  },
  {
   "cell_type": "code",
   "execution_count": 67,
   "id": "2c65c13e",
   "metadata": {},
   "outputs": [
    {
     "data": {
      "text/plain": [
       "3759.0"
      ]
     },
     "execution_count": 67,
     "metadata": {},
     "output_type": "execute_result"
    }
   ],
   "source": [
    "float(my_string)"
   ]
  },
  {
   "cell_type": "code",
   "execution_count": 68,
   "id": "ab4cf2bd",
   "metadata": {},
   "outputs": [
    {
     "data": {
      "text/plain": [
       "3.0"
      ]
     },
     "execution_count": 68,
     "metadata": {},
     "output_type": "execute_result"
    }
   ],
   "source": [
    "float(my_int)"
   ]
  },
  {
   "cell_type": "code",
   "execution_count": 69,
   "id": "2db9b3e5",
   "metadata": {},
   "outputs": [
    {
     "data": {
      "text/plain": [
       "6.759"
      ]
     },
     "execution_count": 69,
     "metadata": {},
     "output_type": "execute_result"
    }
   ],
   "source": [
    "my_int + my_float"
   ]
  },
  {
   "cell_type": "code",
   "execution_count": 70,
   "id": "211e7901",
   "metadata": {},
   "outputs": [
    {
     "data": {
      "text/plain": [
       "-0.7589999999999999"
      ]
     },
     "execution_count": 70,
     "metadata": {},
     "output_type": "execute_result"
    }
   ],
   "source": [
    "my_int - my_float"
   ]
  },
  {
   "cell_type": "code",
   "execution_count": 71,
   "id": "9122e764",
   "metadata": {},
   "outputs": [
    {
     "data": {
      "text/plain": [
       "11.277"
      ]
     },
     "execution_count": 71,
     "metadata": {},
     "output_type": "execute_result"
    }
   ],
   "source": [
    "my_int * my_float"
   ]
  },
  {
   "cell_type": "code",
   "execution_count": 72,
   "id": "757d90dd",
   "metadata": {},
   "outputs": [
    {
     "data": {
      "text/plain": [
       "0.7980845969672785"
      ]
     },
     "execution_count": 72,
     "metadata": {},
     "output_type": "execute_result"
    }
   ],
   "source": [
    "my_int / my_float"
   ]
  },
  {
   "cell_type": "code",
   "execution_count": 73,
   "id": "66633948",
   "metadata": {},
   "outputs": [
    {
     "data": {
      "text/plain": [
       "0.0"
      ]
     },
     "execution_count": 73,
     "metadata": {},
     "output_type": "execute_result"
    }
   ],
   "source": [
    "my_int // my_float"
   ]
  },
  {
   "cell_type": "code",
   "execution_count": 74,
   "id": "9aff4d22",
   "metadata": {},
   "outputs": [
    {
     "data": {
      "text/plain": [
       "3.0"
      ]
     },
     "execution_count": 74,
     "metadata": {},
     "output_type": "execute_result"
    }
   ],
   "source": [
    "my_int % my_float"
   ]
  },
  {
   "cell_type": "markdown",
   "id": "f69d23c5",
   "metadata": {},
   "source": [
    "# Assignment: Arithemetic Operations\n",
    "## Calculate the following numbers\n",
    "* gross profit from selling a snowboard\n",
    "* gross margin from selling a snowboard\n",
    "* price needed for a gross margin of 70%\n",
    "* Sales tax on a snowboard sale\n",
    "* Amount of money if the gross profit from selling 5 snowboards is invested for one year."
   ]
  },
  {
   "cell_type": "code",
   "execution_count": 75,
   "id": "6ba67d1a",
   "metadata": {},
   "outputs": [
    {
     "name": "stdout",
     "output_type": "stream",
     "text": [
      "300.0\n",
      "0.6000120002400048\n",
      "666.63333333332\n",
      "39\n",
      "1575.0\n"
     ]
    }
   ],
   "source": [
    "gross_profit = 300.0\n",
    "gross_margin = 0.6000120002400048\n",
    "price_needed_for70 = 666.63333333332\n",
    "sales_tax = 39\n",
    "amount_after_1yr = 1575.0\n",
    "print(gross_profit)\n",
    "print(gross_margin)\n",
    "print(price_needed_for70)\n",
    "print(sales_tax)\n",
    "print(amount_after_1yr)"
   ]
  },
  {
   "cell_type": "markdown",
   "id": "1b35b2a5",
   "metadata": {},
   "source": [
    "# 1. Calculate the gross profit on the snowboard\n",
    "Formula: Price minus cost"
   ]
  },
  {
   "cell_type": "code",
   "execution_count": 76,
   "id": "50ca2990",
   "metadata": {},
   "outputs": [
    {
     "data": {
      "text/plain": [
       "300.0"
      ]
     },
     "execution_count": 76,
     "metadata": {},
     "output_type": "execute_result"
    }
   ],
   "source": [
    "snowboard_price = 499.99\n",
    "snowboard_cost = 199.99\n",
    "snowboard_price - snowboard_cost"
   ]
  },
  {
   "cell_type": "markdown",
   "id": "aec40def",
   "metadata": {},
   "source": [
    "# 2. Calculate the gross margin on our snowboard\n",
    "Formula: Gross profit divided by price"
   ]
  },
  {
   "cell_type": "code",
   "execution_count": 77,
   "id": "49ea2c4c",
   "metadata": {},
   "outputs": [
    {
     "data": {
      "text/plain": [
       "0.6000120002400048"
      ]
     },
     "execution_count": 77,
     "metadata": {},
     "output_type": "execute_result"
    }
   ],
   "source": [
    "gross_profit / snowboard_price"
   ]
  },
  {
   "cell_type": "markdown",
   "id": "cdd06f23",
   "metadata": {},
   "source": [
    "# 3. Calculate the price needed to obtain a gross margin of 70%\n",
    "Formula: Cost divided by (1 minus the desired margin.)"
   ]
  },
  {
   "cell_type": "code",
   "execution_count": 78,
   "id": "1f725b8e",
   "metadata": {},
   "outputs": [
    {
     "data": {
      "text/plain": [
       "666.6333333333332"
      ]
     },
     "execution_count": 78,
     "metadata": {},
     "output_type": "execute_result"
    }
   ],
   "source": [
    "snowboard_cost / (1-.7)"
   ]
  },
  {
   "cell_type": "markdown",
   "id": "6d5f8329",
   "metadata": {},
   "source": [
    "# 4. Calculate the sales tax on a sale of our snowboard\n",
    "Tax rate: 8%\n",
    "Formula: Price * tax rate"
   ]
  },
  {
   "cell_type": "code",
   "execution_count": 79,
   "id": "95afa49a",
   "metadata": {},
   "outputs": [
    {
     "data": {
      "text/plain": [
       "39"
      ]
     },
     "execution_count": 79,
     "metadata": {},
     "output_type": "execute_result"
    }
   ],
   "source": [
    "int(snowboard_price * .08)"
   ]
  },
  {
   "cell_type": "markdown",
   "id": "4a768123",
   "metadata": {},
   "source": [
    "# 5. Calculate the amount of money we would have if we invested the profit from selling 5 snowboards for one year.\n",
    "Assume an interest rate of 5%.\n",
    "The formula is the amount_invested + (amount_invested * interest_rate)"
   ]
  },
  {
   "cell_type": "code",
   "execution_count": 80,
   "id": "9a17f106",
   "metadata": {},
   "outputs": [
    {
     "data": {
      "text/plain": [
       "1575.0"
      ]
     },
     "execution_count": 80,
     "metadata": {},
     "output_type": "execute_result"
    }
   ],
   "source": [
    "amount_of_5_sold = gross_profit * 5\n",
    "amount_of_5_sold + (amount_of_5_sold * .05)"
   ]
  },
  {
   "cell_type": "code",
   "execution_count": 81,
   "id": "0081e529",
   "metadata": {},
   "outputs": [],
   "source": [
    "number = 3.759"
   ]
  },
  {
   "cell_type": "code",
   "execution_count": 82,
   "id": "d6a3a63a",
   "metadata": {},
   "outputs": [
    {
     "data": {
      "text/plain": [
       "4"
      ]
     },
     "execution_count": 82,
     "metadata": {},
     "output_type": "execute_result"
    }
   ],
   "source": [
    "round(number)"
   ]
  },
  {
   "cell_type": "code",
   "execution_count": 83,
   "id": "530f9934",
   "metadata": {},
   "outputs": [
    {
     "data": {
      "text/plain": [
       "3.76"
      ]
     },
     "execution_count": 83,
     "metadata": {},
     "output_type": "execute_result"
    }
   ],
   "source": [
    "round(number,2)"
   ]
  },
  {
   "cell_type": "markdown",
   "id": "51a2732b",
   "metadata": {},
   "source": [
    "# Assingment: Numeric Functions\n",
    "* Highest price\n",
    "* Lowest price\n",
    "* How much would it cost for a customer to purchase 2 of every item, rounded to the nearest dollar?"
   ]
  },
  {
   "cell_type": "code",
   "execution_count": 84,
   "id": "006af4c5",
   "metadata": {},
   "outputs": [],
   "source": [
    "price_list = (129.99, 99.99, 119.19, 99.99, 89.99, 79.99, 49.99)"
   ]
  },
  {
   "cell_type": "code",
   "execution_count": 85,
   "id": "7ebc9f46",
   "metadata": {},
   "outputs": [
    {
     "data": {
      "text/plain": [
       "129.99"
      ]
     },
     "execution_count": 85,
     "metadata": {},
     "output_type": "execute_result"
    }
   ],
   "source": [
    "max(price_list)"
   ]
  },
  {
   "cell_type": "code",
   "execution_count": 86,
   "id": "5e97f30c",
   "metadata": {},
   "outputs": [
    {
     "data": {
      "text/plain": [
       "49.99"
      ]
     },
     "execution_count": 86,
     "metadata": {},
     "output_type": "execute_result"
    }
   ],
   "source": [
    "min(price_list)"
   ]
  },
  {
   "cell_type": "code",
   "execution_count": 87,
   "id": "3666b5da",
   "metadata": {},
   "outputs": [
    {
     "data": {
      "text/plain": [
       "1338"
      ]
     },
     "execution_count": 87,
     "metadata": {},
     "output_type": "execute_result"
    }
   ],
   "source": [
    "round(2 * sum(price_list))"
   ]
  },
  {
   "cell_type": "markdown",
   "id": "9e0fb051",
   "metadata": {},
   "source": [
    "# Strings"
   ]
  },
  {
   "cell_type": "code",
   "execution_count": 88,
   "id": "e0815f38",
   "metadata": {},
   "outputs": [
    {
     "name": "stdout",
     "output_type": "stream",
     "text": [
      "This is a string\n"
     ]
    }
   ],
   "source": [
    "new_string = 'This is a string'\n",
    "print(new_string)"
   ]
  },
  {
   "cell_type": "code",
   "execution_count": 89,
   "id": "fd48ca1a",
   "metadata": {},
   "outputs": [
    {
     "name": "stdout",
     "output_type": "stream",
     "text": [
      "Double quotes allow us to use 'inside' quotes\n"
     ]
    }
   ],
   "source": [
    "next_string = \"Double quotes allow us to use 'inside' quotes\"\n",
    "print(next_string)"
   ]
  },
  {
   "cell_type": "code",
   "execution_count": 90,
   "id": "0392b00c",
   "metadata": {},
   "outputs": [
    {
     "name": "stdout",
     "output_type": "stream",
     "text": [
      "Triple quotes allow us to write multiline strings. We dont have to worry about errors sue to using single or double quotes. Pretty cool!\n"
     ]
    }
   ],
   "source": [
    "last_string = '''Triple quotes allow us to write multiline strings. We dont have to worry about errors sue to using single or double quotes. Pretty cool!'''\n",
    "print(last_string)"
   ]
  },
  {
   "cell_type": "code",
   "execution_count": 91,
   "id": "bc830ba8",
   "metadata": {},
   "outputs": [
    {
     "name": "stdout",
     "output_type": "stream",
     "text": [
      "22.5\n"
     ]
    }
   ],
   "source": [
    "number = 22.5\n",
    "string = str(number)\n",
    "\n",
    "print(string)"
   ]
  },
  {
   "cell_type": "markdown",
   "id": "0f0d20a9",
   "metadata": {},
   "source": [
    "# String Arithmetic\n",
    "## concatenate using the plus symbol"
   ]
  },
  {
   "cell_type": "code",
   "execution_count": 92,
   "id": "31323886",
   "metadata": {},
   "outputs": [
    {
     "data": {
      "text/plain": [
       "'Snowboard'"
      ]
     },
     "execution_count": 92,
     "metadata": {},
     "output_type": "execute_result"
    }
   ],
   "source": [
    "'Snow' + 'board'"
   ]
  },
  {
   "cell_type": "code",
   "execution_count": 93,
   "id": "abd69409",
   "metadata": {},
   "outputs": [
    {
     "data": {
      "text/plain": [
       "'My Maven snowboard cost $22.55!'"
      ]
     },
     "execution_count": 93,
     "metadata": {},
     "output_type": "execute_result"
    }
   ],
   "source": [
    "subject = 'My'\n",
    "noun = 'Maven snowboard'\n",
    "verb = 'cost'\n",
    "price = 22.55\n",
    "\n",
    "subject + ' ' + noun + ' ' + verb + ' $' + str(price) +'!'"
   ]
  },
  {
   "cell_type": "markdown",
   "id": "63107d2a",
   "metadata": {},
   "source": [
    "## repeat somthing"
   ]
  },
  {
   "cell_type": "code",
   "execution_count": 94,
   "id": "9b3cbc81",
   "metadata": {},
   "outputs": [
    {
     "data": {
      "text/plain": [
       "'Repeat 3 times: I will not steal I will not steal I will not steal '"
      ]
     },
     "execution_count": 94,
     "metadata": {},
     "output_type": "execute_result"
    }
   ],
   "source": [
    "'Repeat 3 times: ' + (\"I will not steal \") * 3"
   ]
  },
  {
   "cell_type": "markdown",
   "id": "650fa3f5",
   "metadata": {},
   "source": [
    "# Assignment: String Indexing\n",
    "The cybersecurity analyst hid the password in a secret message. The password is 5 letters long and each letter is in one of each text variables. Use indexing to find out what the password is."
   ]
  },
  {
   "cell_type": "code",
   "execution_count": 95,
   "id": "5d4bab21",
   "metadata": {},
   "outputs": [],
   "source": [
    "text1 = '    Your friend Mark'\n",
    "text2 = 'was'\n",
    "text3 = 'having'\n",
    "text4 = 'a great day'\n",
    "text5 = 'on the mountain'"
   ]
  },
  {
   "cell_type": "code",
   "execution_count": 96,
   "id": "2b98c0e1",
   "metadata": {},
   "outputs": [
    {
     "name": "stdout",
     "output_type": "stream",
     "text": [
      "The secret password is Maven\n"
     ]
    }
   ],
   "source": [
    "maven = text1[-4] + text2[1] + text3[2] + text4[4] + text5[-1]\n",
    "\n",
    "print('The secret password is ' + maven)"
   ]
  },
  {
   "cell_type": "markdown",
   "id": "56b62208",
   "metadata": {},
   "source": [
    "# Assignment: The Length Function with Indexing\n",
    "We need to use the length of the messages, to find the letter from the alphabet, this will help us build the password maven."
   ]
  },
  {
   "cell_type": "code",
   "execution_count": 97,
   "id": "fd679ac1",
   "metadata": {},
   "outputs": [],
   "source": [
    "a = 'abcdefghijklmnopqrstuvwxyz'\n",
    "msg1 = 'Hello World!'\n",
    "msg2 = ''\n",
    "msg3 = 'It snowed a lot today'\n",
    "msg4 = 'eeee'\n",
    "msg5 = 'I love snow!!'"
   ]
  },
  {
   "cell_type": "markdown",
   "id": "40cd542a",
   "metadata": {},
   "source": [
    "# Crack the Code\n",
    "combine the characters retrieved using the LENTGH funciton into a single string, and assign that to password."
   ]
  },
  {
   "cell_type": "code",
   "execution_count": 98,
   "id": "3f340244",
   "metadata": {},
   "outputs": [
    {
     "data": {
      "text/plain": [
       "'maven'"
      ]
     },
     "execution_count": 98,
     "metadata": {},
     "output_type": "execute_result"
    }
   ],
   "source": [
    "password = (a[len(msg1)] \n",
    "            + a[len(msg2)] \n",
    "            + a[len(msg3)] \n",
    "            + a[len(msg4)] \n",
    "            + a[len(msg5)])\n",
    "\n",
    "password"
   ]
  },
  {
   "cell_type": "markdown",
   "id": "f71f8ad9",
   "metadata": {},
   "source": [
    "# Boolean"
   ]
  },
  {
   "cell_type": "code",
   "execution_count": 99,
   "id": "34150764",
   "metadata": {},
   "outputs": [],
   "source": [
    "inventory_count = 5"
   ]
  },
  {
   "cell_type": "code",
   "execution_count": 100,
   "id": "41a94549",
   "metadata": {},
   "outputs": [
    {
     "data": {
      "text/plain": [
       "False"
      ]
     },
     "execution_count": 100,
     "metadata": {},
     "output_type": "execute_result"
    }
   ],
   "source": [
    "inventory_count == 0"
   ]
  },
  {
   "cell_type": "code",
   "execution_count": 101,
   "id": "c0025c51",
   "metadata": {},
   "outputs": [
    {
     "data": {
      "text/plain": [
       "False"
      ]
     },
     "execution_count": 101,
     "metadata": {},
     "output_type": "execute_result"
    }
   ],
   "source": [
    "inventory_count > 5"
   ]
  },
  {
   "cell_type": "code",
   "execution_count": 102,
   "id": "b48a6d49",
   "metadata": {},
   "outputs": [],
   "source": [
    "price = 99.99"
   ]
  },
  {
   "cell_type": "code",
   "execution_count": 103,
   "id": "5e43fb08",
   "metadata": {},
   "outputs": [
    {
     "data": {
      "text/plain": [
       "True"
      ]
     },
     "execution_count": 103,
     "metadata": {},
     "output_type": "execute_result"
    }
   ],
   "source": [
    "inventory_count > 0 and price < 100"
   ]
  },
  {
   "cell_type": "code",
   "execution_count": 104,
   "id": "a026df09",
   "metadata": {},
   "outputs": [
    {
     "data": {
      "text/plain": [
       "9.99"
      ]
     },
     "execution_count": 104,
     "metadata": {},
     "output_type": "execute_result"
    }
   ],
   "source": [
    "inventory = 6\n",
    "\n",
    "price = 9.99\n",
    "(inventory > 5) * price"
   ]
  },
  {
   "cell_type": "code",
   "execution_count": 105,
   "id": "eb471e35",
   "metadata": {},
   "outputs": [],
   "source": [
    "Customer = 'Barry'\n",
    "inventory_count = 0\n",
    "product = 'super_snowboard'"
   ]
  },
  {
   "cell_type": "code",
   "execution_count": 106,
   "id": "f18e76d9",
   "metadata": {},
   "outputs": [
    {
     "data": {
      "text/plain": [
       "False"
      ]
     },
     "execution_count": 106,
     "metadata": {},
     "output_type": "execute_result"
    }
   ],
   "source": [
    "inventory_count > 0 or (Customer == 'Chris' and product == 'super_snowboard')"
   ]
  },
  {
   "cell_type": "code",
   "execution_count": null,
   "id": "e2dc26d5",
   "metadata": {},
   "outputs": [],
   "source": []
  }
 ],
 "metadata": {
  "kernelspec": {
   "display_name": "Python 3 (ipykernel)",
   "language": "python",
   "name": "python3"
  },
  "language_info": {
   "codemirror_mode": {
    "name": "ipython",
    "version": 3
   },
   "file_extension": ".py",
   "mimetype": "text/x-python",
   "name": "python",
   "nbconvert_exporter": "python",
   "pygments_lexer": "ipython3",
   "version": "3.9.13"
  }
 },
 "nbformat": 4,
 "nbformat_minor": 5
}
